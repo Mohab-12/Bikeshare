{
 "cells": [
  {
   "cell_type": "code",
   "execution_count": 1,
   "metadata": {},
   "outputs": [],
   "source": [
    "import time\n",
    "import pandas as pd\n",
    "import numpy as np"
   ]
  },
  {
   "cell_type": "code",
   "execution_count": 2,
   "metadata": {},
   "outputs": [],
   "source": [
    "CITY_DATA = { 'chicago': 'chicago.csv',\n",
    "              'new york city': 'new_york_city.csv',\n",
    "              'washington': 'washington.csv' }\n"
   ]
  },
  {
   "cell_type": "code",
   "execution_count": 4,
   "metadata": {},
   "outputs": [],
   "source": [
    "def get_filters():\n",
    "    \"\"\"\n",
    "    Asks user to specify a city, month, and day to analyze.\n",
    "\n",
    "    Returns:\n",
    "        (str) city - name of the city to analyze\n",
    "        (str) month - name of the month to filter by, or \"all\" to apply no month filter\n",
    "        (str) day - name of the day of week to filter by, or \"all\" to apply no day filter\n",
    "    \"\"\"\n",
    "    print('Hello! Let\\'s explore some US bikeshare data!')\n",
    "    # TO DO: get user input for city (chicago, new york city, washington). HINT: Use a while loop to handle invalid inputs\n",
    "    city=input(\"1.Chicago\\n2.New York\\n3.Washington\\n4.All\\nName a city: \").lower()\n",
    "\n",
    "\n",
    "    # TO DO: get user input for month (all, january, february, ... , june)\n",
    "    month=input(\"choose one of the first six months: \")\n",
    "\n",
    "\n",
    "    # TO DO: get user input for day of week (all, monday, tuesday, ... sunday)\n",
    "    day=input(\"filter by day: \")\n",
    "\n",
    "\n",
    "    print('-'*40)\n",
    "    return city, month, day\n"
   ]
  },
  {
   "cell_type": "code",
   "execution_count": 12,
   "metadata": {},
   "outputs": [],
   "source": [
    "\"\"\"\"\"\"\n",
    "def load_data(city, month, day):\n",
    "    \n",
    "    \"\"\"\n",
    "    Loads data for the specified city and filters by month and day if applicable.\n",
    "\n",
    "    Args:\n",
    "        (str) city - name of the city to analyze\n",
    "        (str) month - name of the month to filter by, or \"all\" to apply no month filter\n",
    "        (str) day - name of the day of week to filter by, or \"all\" to apply no day filter\n",
    "    Returns:\n",
    "        df - Pandas DataFrame containing city data filtered by month and day\n",
    "    \"\"\"\n",
    "    if city != all:\n",
    "        df = pd.read_csv(CITY_DATA[city])\n",
    "    if month != all:\n",
    "        df['Start Time'] = pd.to_datetime(df['Start Time'])\n",
    "        df['End Time'] = pd.to_datetime(df['End Time'])\n",
    "        df['month'] = df['Start Time'].dt.month\n",
    "        df['Hour'] = df['Start Time'].dt.hour\n",
    "        months = ['january', 'february', 'march', 'april', 'may', 'june',\"all\"]\n",
    "        month = months.index(month) + 1\n",
    "        df = df[df['month'] == month]\n",
    "    if day != all:\n",
    "        df['day_of_week'] = df['Start Time'].dt.day_name()\n",
    "        df = df[df['day_of_week'] == day.title()]\n",
    "    return df"
   ]
  },
  {
   "cell_type": "code",
   "execution_count": 9,
   "metadata": {},
   "outputs": [],
   "source": [
    "def time_stats(df):\n",
    "    \"\"\"Displays statistics on the most frequent times of travel.\"\"\"\n",
    "    print('\\nCalculating The Most Frequent Times of Travel...\\n')\n",
    "    start_time = time.time()\n",
    "    # TO DO: display the most common month\n",
    "    print(\"Most common month \",df[\"month\"].mode()[0])\n",
    "    # TO DO: display the most common day of week\n",
    "    print(\"Most common day \",df[\"day_of_week\"].mode()[0])\n",
    "    # TO DO: display the most common start hour\n",
    "    print(\"Most common Hour \",df[\"Hour\"].mode()[0])\n",
    "    print(\"\\nThis took %s seconds.\" % (time.time() - start_time))\n",
    "    print('-'*40)\n",
    "    return(df)"
   ]
  },
  {
   "cell_type": "code",
   "execution_count": 13,
   "metadata": {},
   "outputs": [],
   "source": [
    "def station_stats(df):\n",
    "    \"\"\"Displays statistics on the most popular stations and trip.\"\"\"\n",
    "    print('\\nCalculating The Most Popular Stations and Trip...\\n')\n",
    "    start_time = time.time()\n",
    "    # TO DO: display most commonly used start station\n",
    "    print(\"most common start station is \" ,df[\"Start Station\"].mode()[0])\n",
    "    # TO DO: display most commonly used end station\n",
    "    print(\"Most common end station is \" ,df[\"End Station\"].mode()[0])\n",
    "    # TO DO: display most frequent combination of start station and end station trip\n",
    "    print(\"The most common trip in numbers was \",\n",
    "          df[df.duplicated(['Start Station', 'End Station'])].value_counts())\n",
    "    print(\"\\nThis took %s seconds.\" % (time.time() - start_time))\n",
    "    print('-'*40)\n",
    "    return(df)"
   ]
  },
  {
   "cell_type": "code",
   "execution_count": 14,
   "metadata": {},
   "outputs": [],
   "source": [
    "\n",
    "def trip_duration_stats(df):\n",
    "    \"\"\"Displays statistics on the total and average trip duration.\"\"\"\n",
    "    print('\\nCalculating Trip Duration...\\n')\n",
    "    start_time = time.time()\n",
    "    # TO DO: display total travel time\n",
    "    sum=df[\"End Time\"]-df[\"Start Time\"]\n",
    "    print(\"Travel duration is \",sum.sum())\n",
    "    # TO DO: display mean travel time\n",
    "    a=df[\"End Time\"]-df[\"Start Time\"]\n",
    "    print(\"average \",a.mean())\n",
    "    print(\"\\nThis took %s seconds.\" % (time.time() - start_time))\n",
    "    print('-'*40)\n",
    "    return(df)"
   ]
  },
  {
   "cell_type": "code",
   "execution_count": 15,
   "metadata": {},
   "outputs": [],
   "source": [
    "def user_stats(df):\n",
    "    \"\"\"Displays statistics on bikeshare users.\"\"\"\n",
    "    print('\\nCalculating User Stats...\\n')\n",
    "    start_time = time.time()\n",
    "    # TO DO: Display counts of user types\n",
    "    print(df[\"User Type\"].value_counts())\n",
    "    # TO DO: Display counts of gender\n",
    "    print(df[\"Gender\"].value_counts())\n",
    "    # TO DO: Display earliest, most recent, and most common year of birth\n",
    "    print(\"\\nThis took %s seconds.\" % (time.time() - start_time))\n",
    "    print('-'*40)\n",
    "    return(df)"
   ]
  },
  {
   "cell_type": "code",
   "execution_count": 16,
   "metadata": {},
   "outputs": [],
   "source": [
    "def main():\n",
    "    while True:\n",
    "        city, month, day = get_filters()\n",
    "        df = load_data(city, month, day)\n",
    "\n",
    "        time_stats(df)\n",
    "        station_stats(df)\n",
    "        trip_duration_stats(df)\n",
    "        user_stats(df)\n",
    "\n",
    "        restart = input('\\nWould you like to restart? Enter yes or no.\\n')\n",
    "        if restart.lower() != 'yes':\n",
    "            break"
   ]
  },
  {
   "cell_type": "code",
   "execution_count": null,
   "metadata": {},
   "outputs": [
    {
     "name": "stdout",
     "output_type": "stream",
     "text": [
      "Hello! Let's explore some US bikeshare data!\n"
     ]
    }
   ],
   "source": [
    "if __name__ == \"__main__\":\n",
    "\tmain()"
   ]
  }
 ],
 "metadata": {
  "kernelspec": {
   "display_name": "Python 3",
   "language": "python",
   "name": "python3"
  },
  "language_info": {
   "codemirror_mode": {
    "name": "ipython",
    "version": 3
   },
   "file_extension": ".py",
   "mimetype": "text/x-python",
   "name": "python",
   "nbconvert_exporter": "python",
   "pygments_lexer": "ipython3",
   "version": "3.8.3"
  }
 },
 "nbformat": 4,
 "nbformat_minor": 4
}
